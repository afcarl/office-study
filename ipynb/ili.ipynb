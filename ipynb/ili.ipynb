{
 "cells": [
  {
   "cell_type": "markdown",
   "metadata": {},
   "source": [
    "# ili\n",
    "\n",
    "Here we will demonstrate how to preprocess the mapping files to visualize the results in `ili`"
   ]
  },
  {
   "cell_type": "code",
   "execution_count": 1,
   "metadata": {
    "collapsed": true
   },
   "outputs": [],
   "source": [
    "import pandas as pd\n",
    "import numpy as np\n",
    "from biom import load_table, Table\n",
    "from biom.util import biom_open\n",
    "import re"
   ]
  },
  {
   "cell_type": "markdown",
   "metadata": {},
   "source": [
    "Now we'll load up the metadata files, along with the sourcetracker results."
   ]
  },
  {
   "cell_type": "code",
   "execution_count": 2,
   "metadata": {
    "collapsed": false
   },
   "outputs": [],
   "source": [
    "metadata = pd.read_csv('../data/qiita_refined_mapping.csv', index_col=0)\n",
    "sources16S = pd.read_table('../results/sourcetracker/16S_sources/sink_predictions.txt', index_col=0)\n",
    "sourcesMS = pd.read_table('../results/sourcetracker/MS_sources/sink_predictions.txt', index_col=0)"
   ]
  },
  {
   "cell_type": "markdown",
   "metadata": {},
   "source": [
    "We'll want to first merge together the sourcetracker results.  We'll add the suffix `_16S` to all of the 16S results,\n",
    "and `_MS` to all of the MS results."
   ]
  },
  {
   "cell_type": "code",
   "execution_count": 3,
   "metadata": {
    "collapsed": false
   },
   "outputs": [],
   "source": [
    "sources = pd.merge(sources16S, sourcesMS, left_index=True, right_index=True, \n",
    "                   how='outer', suffixes=('_16S', '_MS'))"
   ]
  },
  {
   "cell_type": "markdown",
   "metadata": {},
   "source": [
    "Now merge this together with the original metadata mapping file."
   ]
  },
  {
   "cell_type": "code",
   "execution_count": 4,
   "metadata": {
    "collapsed": false
   },
   "outputs": [],
   "source": [
    "df = pd.merge(metadata, sources, left_index=True, right_index=True)\n",
    "df.to_csv('../results/ili_mapping.txt', sep='\\t')"
   ]
  },
  {
   "cell_type": "markdown",
   "metadata": {},
   "source": [
    "Now we can load up these results directly into ili.  Check it out at ili-toolbox.github.io"
   ]
  }
 ],
 "metadata": {
  "kernelspec": {
   "display_name": "Python 3",
   "language": "python",
   "name": "python3"
  },
  "language_info": {
   "codemirror_mode": {
    "name": "ipython",
    "version": 3
   },
   "file_extension": ".py",
   "mimetype": "text/x-python",
   "name": "python",
   "nbconvert_exporter": "python",
   "pygments_lexer": "ipython3",
   "version": "3.5.2"
  }
 },
 "nbformat": 4,
 "nbformat_minor": 0
}
