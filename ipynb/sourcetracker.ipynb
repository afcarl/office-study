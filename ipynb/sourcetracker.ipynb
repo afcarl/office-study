{
 "cells": [
  {
   "cell_type": "markdown",
   "metadata": {},
   "source": [
    "# Sourcetracker\n",
    "\n",
    "Here we will demonstrate how to run sourcetracker on 16S and metabolomics data. We aim to estimate the probability of an individual touching an object, such as a computer."
   ]
  },
  {
   "cell_type": "code",
   "execution_count": 1,
   "metadata": {
    "collapsed": true
   },
   "outputs": [],
   "source": [
    "import pandas as pd\n",
    "import numpy as np\n",
    "from biom import load_table, Table\n",
    "from biom.util import biom_open\n",
    "import re"
   ]
  },
  {
   "cell_type": "markdown",
   "metadata": {},
   "source": [
    "Now we will read in the metadata.  Note that we will need to add two additional metadata columns.\n",
    "Specifically, we need to add a `SourceSink` column and a `Env` column. See the http://qiime.org/tutorials/source_tracking.html\n",
    "for more explanation."
   ]
  },
  {
   "cell_type": "code",
   "execution_count": 2,
   "metadata": {
    "collapsed": false
   },
   "outputs": [],
   "source": [
    "metadata = pd.read_csv('../data/qiita_refined_mapping.csv', index_col=0)"
   ]
  },
  {
   "cell_type": "markdown",
   "metadata": {},
   "source": [
    "We will want to assign all of the volunteers as the source of the microbes / metabolites and the objects as sinks.  This information will be stored in the `SourceSink` column.  \n",
    "\n",
    "The `Env` variable here is simple, it just keeps track of the object name."
   ]
  },
  {
   "cell_type": "code",
   "execution_count": 3,
   "metadata": {
    "collapsed": false
   },
   "outputs": [],
   "source": [
    "def assign_source_sink(x):\n",
    "    if x in ['Volunteer1',\n",
    "             'Volunteer2',\n",
    "             'Volunteer3',\n",
    "             'Volunteer4']:\n",
    "        return 'source'\n",
    "    else:\n",
    "        return 'sink'\n",
    "    \n",
    "metadata['SourceSink'] = metadata.subject.apply(assign_source_sink)\n",
    "metadata['Env'] = metadata['subject']"
   ]
  },
  {
   "cell_type": "markdown",
   "metadata": {},
   "source": [
    "For the sake of the sourcetracking analyses, we will focus on samples that aren't controls."
   ]
  },
  {
   "cell_type": "code",
   "execution_count": 4,
   "metadata": {
    "collapsed": true
   },
   "outputs": [],
   "source": [
    "metadata = metadata.loc[metadata.subject != 'Empty']"
   ]
  },
  {
   "cell_type": "markdown",
   "metadata": {},
   "source": [
    "# Metabolomics source tracking"
   ]
  },
  {
   "cell_type": "markdown",
   "metadata": {},
   "source": [
    "Let's load up the MS1 features.  We'll also want to convert the IDs from the metabolomics\n",
    "analysis into IDs compatible with the metadata."
   ]
  },
  {
   "cell_type": "code",
   "execution_count": 5,
   "metadata": {
    "collapsed": false
   },
   "outputs": [],
   "source": [
    "table = pd.read_table('../data/lcms_pos_metabolites.csv', index_col=0)\n",
    "\n",
    "pattern = re.compile('P(\\d)\\S+R([A-Z][0-9]+)\\S+.mzXML')\n",
    "def convert_id(x):\n",
    "    p, col = re.findall(pattern, x)[0]\n",
    "    return '10244.%s%s' % (p, col)\n",
    "oids = table.columns\n",
    "ids = list(map(convert_id, oids))\n",
    "table = Table(table.values, table.index, ids, table_id='MS1 feature table')"
   ]
  },
  {
   "cell_type": "markdown",
   "metadata": {},
   "source": [
    "We'll want to make sure that the metabolomics samples match up with the sample metadata"
   ]
  },
  {
   "cell_type": "code",
   "execution_count": 6,
   "metadata": {
    "collapsed": false
   },
   "outputs": [],
   "source": [
    "ms_metadata = metadata.loc[table.ids(axis='sample')]"
   ]
  },
  {
   "cell_type": "markdown",
   "metadata": {},
   "source": [
    "Now we can save the MS table and the metadata table into disk, for sourcetracker"
   ]
  },
  {
   "cell_type": "code",
   "execution_count": 7,
   "metadata": {
    "collapsed": true
   },
   "outputs": [],
   "source": [
    "ms_metadata.to_csv('../data/refined_MS_metadata.txt', sep='\\t')\n",
    "with biom_open('../data/MS1.biom', 'w') as f:  \n",
    "     table.to_hdf5(f, \"filtered\")"
   ]
  },
  {
   "cell_type": "markdown",
   "metadata": {},
   "source": [
    "We can now run sourcetracking on the metabolites.  It is important to note that as a part of the gibbs sampling procedure, subsampling will be performed.  In order to avoid issues with\n",
    "memory, we will explicitly sample with replacment"
   ]
  },
  {
   "cell_type": "raw",
   "metadata": {},
   "source": [
    "!sourcetracker2 gibbs \\\n",
    "    -i ../data/MS1.biom \\\n",
    "    -m ../data/refined_MS_metadata.txt \\\n",
    "    --sample_with_replacement \\\n",
    "    -o ../results/MS_sources --jobs=32"
   ]
  },
  {
   "cell_type": "markdown",
   "metadata": {},
   "source": [
    "# Microbial source tracking."
   ]
  },
  {
   "cell_type": "markdown",
   "metadata": {},
   "source": [
    "Let's load up the deblurred biom table."
   ]
  },
  {
   "cell_type": "code",
   "execution_count": 8,
   "metadata": {
    "collapsed": true
   },
   "outputs": [],
   "source": [
    "table = load_table('../data/final.only-16s.biom')"
   ]
  },
  {
   "cell_type": "markdown",
   "metadata": {},
   "source": [
    "Before we begin sourcetracking microbes, we'll want to filter out any nonsense samples in the 16S biom table. This will include blanks and low abundance samples."
   ]
  },
  {
   "cell_type": "code",
   "execution_count": 9,
   "metadata": {
    "collapsed": false
   },
   "outputs": [],
   "source": [
    "sample_filter = lambda v, i, m: v.sum() > 1000\n",
    "table = table.filter(sample_filter)\n",
    "\n",
    "rrna_metadata = metadata.loc[table.ids(axis='sample')]"
   ]
  },
  {
   "cell_type": "markdown",
   "metadata": {},
   "source": [
    "Now we'll want to save this file to disk to be used later by sourcetracker."
   ]
  },
  {
   "cell_type": "code",
   "execution_count": 10,
   "metadata": {
    "collapsed": false
   },
   "outputs": [],
   "source": [
    "rrna_metadata.to_csv('../data/refined_16S_metadata.txt', sep='\\t')\n",
    "with biom_open('../data/deblur-clean-16s.biom', 'w') as f:  \n",
    "     table.to_hdf5(f, \"filtered\")"
   ]
  },
  {
   "cell_type": "markdown",
   "metadata": {},
   "source": [
    "Finally, we can start to run sourcetracking"
   ]
  },
  {
   "cell_type": "raw",
   "metadata": {},
   "source": [
    "!sourcetracker2 gibbs \\\n",
    "    -i ../data/deblur-clean-16s.biom \\\n",
    "    -m ../data/refined_16S_metadata.txt \\\n",
    "    -o ../results/16_sources --jobs 32"
   ]
  },
  {
   "cell_type": "markdown",
   "metadata": {},
   "source": [
    "The sourcetracking results can be found in the results folder.  Now we can visualize these\n",
    "results on the 3D model using ili."
   ]
  },
  {
   "cell_type": "code",
   "execution_count": null,
   "metadata": {
    "collapsed": true
   },
   "outputs": [],
   "source": []
  }
 ],
 "metadata": {
  "kernelspec": {
   "display_name": "Python 3",
   "language": "python",
   "name": "python3"
  },
  "language_info": {
   "codemirror_mode": {
    "name": "ipython",
    "version": 3
   },
   "file_extension": ".py",
   "mimetype": "text/x-python",
   "name": "python",
   "nbconvert_exporter": "python",
   "pygments_lexer": "ipython3",
   "version": "3.5.2"
  }
 },
 "nbformat": 4,
 "nbformat_minor": 0
}
